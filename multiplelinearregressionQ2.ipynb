{
  "nbformat": 4,
  "nbformat_minor": 0,
  "metadata": {
    "colab": {
      "provenance": []
    },
    "kernelspec": {
      "name": "python3",
      "display_name": "Python 3"
    },
    "language_info": {
      "name": "python"
    }
  },
  "cells": [
    {
      "cell_type": "code",
      "execution_count": null,
      "metadata": {
        "id": "5-QEUBQlWI3d"
      },
      "outputs": [],
      "source": [
        "import pandas as pd\n",
        "import numpy as np\n",
        "from sklearn.model_selection import train_test_split\n",
        "from sklearn.linear_model import LinearRegression\n",
        "from sklearn.preprocessing import StandardScaler\n",
        "from sklearn.metrics import mean_squared_error, mean_absolute_error, r2_score"
      ]
    },
    {
      "cell_type": "code",
      "source": [
        "df = pd.read_csv('/content/sample_data/ToyotaCorolla.csv')\n",
        "\n",
        "df = df[[\"Price\", \"Age_08_04\", \"KM\", \"HP\", \"cc\", \"Doors\", \"Gears\", \"Quarterly_Tax\", \"Weight\"]]\n",
        "\n",
        "X_features = df.drop(columns=['Price'])\n",
        "y_target = df['Price']"
      ],
      "metadata": {
        "id": "NuqeU-o5XTj1"
      },
      "execution_count": null,
      "outputs": []
    },
    {
      "cell_type": "code",
      "source": [
        "scaler = StandardScaler()\n",
        "X_scaled = scaler.fit_transform(X_features)"
      ],
      "metadata": {
        "id": "m8JWpaq-Xlqp"
      },
      "execution_count": null,
      "outputs": []
    },
    {
      "cell_type": "code",
      "source": [
        "X_trn, X_tst, y_trn, y_tst = train_test_split(X_scaled, y_target, test_size=0.2, random_state=0)"
      ],
      "metadata": {
        "id": "NvgBuTPOXovH"
      },
      "execution_count": null,
      "outputs": []
    },
    {
      "cell_type": "code",
      "source": [
        "regressor = LinearRegression()\n",
        "regressor.fit(X_trn, y_trn)\n",
        "y_predicted = regressor.predict(X_tst)"
      ],
      "metadata": {
        "id": "9m81tQJbXsYR"
      },
      "execution_count": null,
      "outputs": []
    },
    {
      "cell_type": "code",
      "source": [
        "r2_val = r2_score(y_tst, y_predicted)\n",
        "mse_val = mean_squared_error(y_tst, y_predicted)\n",
        "rmse_val = np.sqrt(mse_val)\n",
        "mae_val = mean_absolute_error(y_tst, y_predicted)\n",
        "\n",
        "print(f'R-squared: {r2_val}')\n",
        "print(f'MSE: {mse_val}')\n",
        "print(f'RMSE: {rmse_val}')\n",
        "print(f'MAE: {mae_val}')"
      ],
      "metadata": {
        "colab": {
          "base_uri": "https://localhost:8080/"
        },
        "id": "aWpUS-IzXxCu",
        "outputId": "7a3cddeb-2b67-49fd-96b1-192f3ca9166a"
      },
      "execution_count": null,
      "outputs": [
        {
          "output_type": "stream",
          "name": "stdout",
          "text": [
            "R-squared: 0.5995582859225154\n",
            "MSE: 4982411.651809184\n",
            "RMSE: 2232.131638548494\n",
            "MAE: 1109.923521351591\n"
          ]
        }
      ]
    }
  ]
}